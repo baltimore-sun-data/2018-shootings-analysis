{
 "cells": [
  {
   "cell_type": "markdown",
   "metadata": {},
   "source": [
    "# Baltimore shootings analysis"
   ]
  },
  {
   "cell_type": "markdown",
   "metadata": {},
   "source": [
    "By [Christine Zhang](mailto:czhang@baltsun.com) and [Caroline Pate](mailto:cpate@baltsun.com)"
   ]
  },
  {
   "cell_type": "markdown",
   "metadata": {},
   "source": [
    "The Baltimore Sun conducted the following analysis of Baltimore Police Department Part 1 Victim Based Crime Data posted on [Open Baltimore](https://data.baltimorecity.gov/Public-Safety/BPD-Part-1-Victim-Based-Crime-Data/wsfq-mvij) on October 17, 2018. The report covers incidents between January 1, 2012, and October 13, 2018.\n",
    "\n",
    "The analysis provided information for the October 18, 2018 Baltimore Sun story titled [\"Baltimore's last weekend without a shooting was the weekend Freddie Gray was arrested\"](http://www.baltimoresun.com/news/maryland/crime/bs-md-ci-violence-stats-20181018-story.html).\n",
    "\n",
    "Here were the findings presented in the story:\n",
    "\n",
    "- There were zero shootings in Baltimore between April 10-12, 2015 — the last weekend in Baltimore which there were no shootings.\n",
    "- Twelve shootings occurred on Sept. 24, 2016 — the last day that there were as much shootings as the 11 shootings on Oct. 16, 2018.\n",
    "- Since 2012, the longest stretch of time Baltimore went without a shooting was an eight-day period from February 12-19, 2014."
   ]
  },
  {
   "cell_type": "markdown",
   "metadata": {},
   "source": [
    "## Import R data analysis libraries"
   ]
  },
  {
   "cell_type": "code",
   "execution_count": 1,
   "metadata": {},
   "outputs": [],
   "source": [
    "suppressMessages(library('tidyverse'))\n",
    "suppressMessages(library('lubridate'))"
   ]
  },
  {
   "cell_type": "markdown",
   "metadata": {},
   "source": [
    "## Data processing:"
   ]
  },
  {
   "cell_type": "markdown",
   "metadata": {},
   "source": [
    "### Read in BPD Part 1 Victim Based Crime Data for analysis"
   ]
  },
  {
   "cell_type": "code",
   "execution_count": 2,
   "metadata": {},
   "outputs": [],
   "source": [
    "crime <- read.csv(\"BPD_Part_1_Victim_Based_Crime_Data.csv\", stringsAsFactors = F)"
   ]
  },
  {
   "cell_type": "markdown",
   "metadata": {},
   "source": [
    "Create a column, `date`, which formats the `CrimeDate` field as a date. Create a new dataframe, `shootings`, which filter the datas to include shootings and homicides for which a firearm was the weapon used."
   ]
  },
  {
   "cell_type": "code",
   "execution_count": 3,
   "metadata": {},
   "outputs": [],
   "source": [
    "crime$date <- mdy(crime$CrimeDate)\n",
    "shootings <- crime %>% filter((Description == 'SHOOTING' | Description == 'HOMICIDE') & Weapon == 'FIREARM') %>%\n",
    "                       arrange(date) "
   ]
  },
  {
   "cell_type": "markdown",
   "metadata": {},
   "source": [
    "### Group the `shootings` dataframe by date to get the number of shootings that occurred on each day"
   ]
  },
  {
   "cell_type": "markdown",
   "metadata": {},
   "source": [
    "This is saved into another dataframe, `shootings.bydate`. The number of shootings on this date is provided a column labeled `n`."
   ]
  },
  {
   "cell_type": "code",
   "execution_count": 4,
   "metadata": {},
   "outputs": [],
   "source": [
    "shootings.bydate <- shootings %>% group_by(date) %>% summarise(n = sum(Total.Incidents, na.rm = T))"
   ]
  },
  {
   "cell_type": "markdown",
   "metadata": {},
   "source": [
    "### Add extra columns for days when no shootings occurred and fill the `n` column in with zeros for those days"
   ]
  },
  {
   "cell_type": "markdown",
   "metadata": {},
   "source": [
    "First, get the time period (minimum date and maximum date) of the `shootings.bydate` dataframe:"
   ]
  },
  {
   "cell_type": "code",
   "execution_count": 5,
   "metadata": {},
   "outputs": [
    {
     "name": "stdout",
     "output_type": "stream",
     "text": [
      "[1] \"2012-01-01\"\n",
      "[1] \"2018-10-13\"\n"
     ]
    }
   ],
   "source": [
    "time.min <- shootings.bydate$date[1]\n",
    "time.max <- shootings.bydate$date[length(shootings.bydate$date)]\n",
    "\n",
    "print(time.min)\n",
    "print(time.max)"
   ]
  },
  {
   "cell_type": "markdown",
   "metadata": {},
   "source": [
    "Then, create a dataframe, `all.dates.frame`, containing all the days spanning that time period:"
   ]
  },
  {
   "cell_type": "code",
   "execution_count": 6,
   "metadata": {},
   "outputs": [],
   "source": [
    "all.dates.frame <- data.frame(list(date = seq(time.min, time.max, by=\"day\")))"
   ]
  },
  {
   "cell_type": "markdown",
   "metadata": {},
   "source": [
    "Merge this dataframe with the `shootings.bydate` dataframe to get the dates with no shootings. This is saved into a dataframe called `merged.data`:"
   ]
  },
  {
   "cell_type": "code",
   "execution_count": 7,
   "metadata": {},
   "outputs": [],
   "source": [
    "merged.data <- merge(all.dates.frame, shootings.bydate , all = T)"
   ]
  },
  {
   "cell_type": "markdown",
   "metadata": {},
   "source": [
    "Extract the day of week using the `wday()` function in the `lubridate` R package. This is saved as the column `dow`:"
   ]
  },
  {
   "cell_type": "code",
   "execution_count": 8,
   "metadata": {},
   "outputs": [],
   "source": [
    "merged.data$dow <- wday(merged.data$date, label=TRUE)"
   ]
  },
  {
   "cell_type": "markdown",
   "metadata": {},
   "source": [
    "Finally, fill in the NAs in the `n` column for those days with no shootings with zeros:"
   ]
  },
  {
   "cell_type": "code",
   "execution_count": 9,
   "metadata": {},
   "outputs": [],
   "source": [
    "merged.data$n <- ifelse(is.na(merged.data$n) == T, 0, merged.data$n)"
   ]
  },
  {
   "cell_type": "markdown",
   "metadata": {},
   "source": [
    "## Data analysis:"
   ]
  },
  {
   "cell_type": "markdown",
   "metadata": {},
   "source": [
    "### Finding: There were zero shootings in Baltimore between April 10-12, 2015 — the last weekend in Baltimore which there were no shootings."
   ]
  },
  {
   "cell_type": "markdown",
   "metadata": {},
   "source": [
    "For each date in the `merged.data` dataframe, calculate the sum of the shootings in the three days prior to that date. This is saved into the variable `lag3_n`."
   ]
  },
  {
   "cell_type": "code",
   "execution_count": 10,
   "metadata": {},
   "outputs": [],
   "source": [
    "merged.data <- merged.data %>% mutate(lag3_n = lag(n, 1)+lag(n, 2)+lag(n, 3))"
   ]
  },
  {
   "cell_type": "markdown",
   "metadata": {},
   "source": [
    "To determine which weekends (defined as the three-day period from Friday to Sunday) saw no shootings, filter `merged.data` to include 0 for `n` and Monday for `dow`."
   ]
  },
  {
   "cell_type": "code",
   "execution_count": 11,
   "metadata": {},
   "outputs": [],
   "source": [
    "mondays <- merged.data %>% filter(lag3_n == 0 & dow == 'Mon') "
   ]
  },
  {
   "cell_type": "code",
   "execution_count": 12,
   "metadata": {},
   "outputs": [
    {
     "data": {
      "text/html": [
       "<table>\n",
       "<thead><tr><th scope=col>date</th><th scope=col>n</th><th scope=col>dow</th><th scope=col>lag3_n</th></tr></thead>\n",
       "<tbody>\n",
       "\t<tr><td>2012-01-16</td><td>3         </td><td>Mon       </td><td>0         </td></tr>\n",
       "\t<tr><td>2013-02-18</td><td>1         </td><td>Mon       </td><td>0         </td></tr>\n",
       "\t<tr><td>2013-03-25</td><td>1         </td><td>Mon       </td><td>0         </td></tr>\n",
       "\t<tr><td>2013-07-22</td><td>9         </td><td>Mon       </td><td>0         </td></tr>\n",
       "\t<tr><td>2014-02-17</td><td>0         </td><td>Mon       </td><td>0         </td></tr>\n",
       "\t<tr><td>2014-03-24</td><td>1         </td><td>Mon       </td><td>0         </td></tr>\n",
       "\t<tr><td>2015-02-09</td><td>1         </td><td>Mon       </td><td>0         </td></tr>\n",
       "\t<tr><td>2015-04-13</td><td>2         </td><td>Mon       </td><td>0         </td></tr>\n",
       "</tbody>\n",
       "</table>\n"
      ],
      "text/latex": [
       "\\begin{tabular}{r|llll}\n",
       " date & n & dow & lag3\\_n\\\\\n",
       "\\hline\n",
       "\t 2012-01-16 & 3          & Mon        & 0         \\\\\n",
       "\t 2013-02-18 & 1          & Mon        & 0         \\\\\n",
       "\t 2013-03-25 & 1          & Mon        & 0         \\\\\n",
       "\t 2013-07-22 & 9          & Mon        & 0         \\\\\n",
       "\t 2014-02-17 & 0          & Mon        & 0         \\\\\n",
       "\t 2014-03-24 & 1          & Mon        & 0         \\\\\n",
       "\t 2015-02-09 & 1          & Mon        & 0         \\\\\n",
       "\t 2015-04-13 & 2          & Mon        & 0         \\\\\n",
       "\\end{tabular}\n"
      ],
      "text/markdown": [
       "\n",
       "date | n | dow | lag3_n | \n",
       "|---|---|---|---|---|---|---|---|\n",
       "| 2012-01-16 | 3          | Mon        | 0          | \n",
       "| 2013-02-18 | 1          | Mon        | 0          | \n",
       "| 2013-03-25 | 1          | Mon        | 0          | \n",
       "| 2013-07-22 | 9          | Mon        | 0          | \n",
       "| 2014-02-17 | 0          | Mon        | 0          | \n",
       "| 2014-03-24 | 1          | Mon        | 0          | \n",
       "| 2015-02-09 | 1          | Mon        | 0          | \n",
       "| 2015-04-13 | 2          | Mon        | 0          | \n",
       "\n",
       "\n"
      ],
      "text/plain": [
       "  date       n dow lag3_n\n",
       "1 2012-01-16 3 Mon 0     \n",
       "2 2013-02-18 1 Mon 0     \n",
       "3 2013-03-25 1 Mon 0     \n",
       "4 2013-07-22 9 Mon 0     \n",
       "5 2014-02-17 0 Mon 0     \n",
       "6 2014-03-24 1 Mon 0     \n",
       "7 2015-02-09 1 Mon 0     \n",
       "8 2015-04-13 2 Mon 0     "
      ]
     },
     "metadata": {},
     "output_type": "display_data"
    }
   ],
   "source": [
    "mondays"
   ]
  },
  {
   "cell_type": "markdown",
   "metadata": {},
   "source": [
    "There were no shootings over the three day period encompassing Friday 2015-04-10, Saturday 2015-04-11, Sunday 2015-04-12. (There were 2 shootings on Monday 2015-04-13.)"
   ]
  },
  {
   "cell_type": "markdown",
   "metadata": {},
   "source": [
    "### Finding: Twelve shootings occurred on Sept. 24, 2016 — the last day that there were as much shootings as the 11 shootings on Oct. 16, 2018."
   ]
  },
  {
   "cell_type": "markdown",
   "metadata": {},
   "source": [
    "Use `table()` to view the distribution of shooting incidents in the `shootings.bydate` dataframe."
   ]
  },
  {
   "cell_type": "code",
   "execution_count": 13,
   "metadata": {},
   "outputs": [
    {
     "data": {
      "text/plain": [
       "\n",
       "  1   2   3   4   5   6   7   8   9  10  11  12 \n",
       "641 524 331 212 113  76  48  21  13   4   3   2 "
      ]
     },
     "metadata": {},
     "output_type": "display_data"
    }
   ],
   "source": [
    "table(shootings.bydate$n)"
   ]
  },
  {
   "cell_type": "markdown",
   "metadata": {},
   "source": [
    "Filter to see the days with the maximum `n`, which in this case is 12."
   ]
  },
  {
   "cell_type": "code",
   "execution_count": 14,
   "metadata": {},
   "outputs": [
    {
     "data": {
      "text/html": [
       "<table>\n",
       "<thead><tr><th scope=col>date</th><th scope=col>n</th></tr></thead>\n",
       "<tbody>\n",
       "\t<tr><td>2015-05-20</td><td>12        </td></tr>\n",
       "\t<tr><td>2016-09-24</td><td>12        </td></tr>\n",
       "</tbody>\n",
       "</table>\n"
      ],
      "text/latex": [
       "\\begin{tabular}{r|ll}\n",
       " date & n\\\\\n",
       "\\hline\n",
       "\t 2015-05-20 & 12        \\\\\n",
       "\t 2016-09-24 & 12        \\\\\n",
       "\\end{tabular}\n"
      ],
      "text/markdown": [
       "\n",
       "date | n | \n",
       "|---|---|\n",
       "| 2015-05-20 | 12         | \n",
       "| 2016-09-24 | 12         | \n",
       "\n",
       "\n"
      ],
      "text/plain": [
       "  date       n \n",
       "1 2015-05-20 12\n",
       "2 2016-09-24 12"
      ]
     },
     "metadata": {},
     "output_type": "display_data"
    }
   ],
   "source": [
    "shootings.bydate %>% filter(n == 12)"
   ]
  },
  {
   "cell_type": "markdown",
   "metadata": {},
   "source": [
    "There were 12 shootings on Sept. 24, 2016."
   ]
  },
  {
   "cell_type": "markdown",
   "metadata": {},
   "source": [
    "### Finding: Since 2012, the longest stretch of time Baltimore went without a shooting was an eight-day period from February 12-19, 2014."
   ]
  },
  {
   "cell_type": "markdown",
   "metadata": {},
   "source": [
    "Create a variable, `days_between_shootings`, that represents the number of days between the dates in the `shootings.bydate` dataframe. This is calculated using the `difftime()` function in base R."
   ]
  },
  {
   "cell_type": "code",
   "execution_count": 15,
   "metadata": {},
   "outputs": [],
   "source": [
    "shootings.bydate$days_between_shootings <- difftime(shootings.bydate$date, lag(shootings.bydate$date)) - 1"
   ]
  },
  {
   "cell_type": "code",
   "execution_count": 16,
   "metadata": {},
   "outputs": [
    {
     "data": {
      "text/html": [
       "<table>\n",
       "<thead><tr><th scope=col>date</th><th scope=col>n</th><th scope=col>days_between_shootings</th></tr></thead>\n",
       "<tbody>\n",
       "\t<tr><td>2014-02-20</td><td>1         </td><td>8 days    </td></tr>\n",
       "\t<tr><td>2018-08-26</td><td>5         </td><td>7 days    </td></tr>\n",
       "\t<tr><td>2014-03-24</td><td>1         </td><td>6 days    </td></tr>\n",
       "\t<tr><td>2015-02-09</td><td>1         </td><td>6 days    </td></tr>\n",
       "\t<tr><td>2013-03-25</td><td>1         </td><td>5 days    </td></tr>\n",
       "\t<tr><td>2013-07-22</td><td>9         </td><td>5 days    </td></tr>\n",
       "</tbody>\n",
       "</table>\n"
      ],
      "text/latex": [
       "\\begin{tabular}{r|lll}\n",
       " date & n & days\\_between\\_shootings\\\\\n",
       "\\hline\n",
       "\t 2014-02-20 & 1          & 8 days    \\\\\n",
       "\t 2018-08-26 & 5          & 7 days    \\\\\n",
       "\t 2014-03-24 & 1          & 6 days    \\\\\n",
       "\t 2015-02-09 & 1          & 6 days    \\\\\n",
       "\t 2013-03-25 & 1          & 5 days    \\\\\n",
       "\t 2013-07-22 & 9          & 5 days    \\\\\n",
       "\\end{tabular}\n"
      ],
      "text/markdown": [
       "\n",
       "date | n | days_between_shootings | \n",
       "|---|---|---|---|---|---|\n",
       "| 2014-02-20 | 1          | 8 days     | \n",
       "| 2018-08-26 | 5          | 7 days     | \n",
       "| 2014-03-24 | 1          | 6 days     | \n",
       "| 2015-02-09 | 1          | 6 days     | \n",
       "| 2013-03-25 | 1          | 5 days     | \n",
       "| 2013-07-22 | 9          | 5 days     | \n",
       "\n",
       "\n"
      ],
      "text/plain": [
       "  date       n days_between_shootings\n",
       "1 2014-02-20 1 8 days                \n",
       "2 2018-08-26 5 7 days                \n",
       "3 2014-03-24 1 6 days                \n",
       "4 2015-02-09 1 6 days                \n",
       "5 2013-03-25 1 5 days                \n",
       "6 2013-07-22 9 5 days                "
      ]
     },
     "metadata": {},
     "output_type": "display_data"
    }
   ],
   "source": [
    "shootings.bydate %>% filter(!is.na(days_between_shootings)) %>% arrange(desc(days_between_shootings)) %>% head()"
   ]
  },
  {
   "cell_type": "markdown",
   "metadata": {},
   "source": [
    "Check this with the `merged.data` dataframe:"
   ]
  },
  {
   "cell_type": "code",
   "execution_count": 17,
   "metadata": {},
   "outputs": [
    {
     "data": {
      "text/html": [
       "<table>\n",
       "<thead><tr><th scope=col>date</th><th scope=col>n</th></tr></thead>\n",
       "<tbody>\n",
       "\t<tr><td>2014-02-01</td><td>0         </td></tr>\n",
       "\t<tr><td>2014-02-02</td><td>0         </td></tr>\n",
       "\t<tr><td>2014-02-03</td><td>1         </td></tr>\n",
       "\t<tr><td>2014-02-04</td><td>0         </td></tr>\n",
       "\t<tr><td>2014-02-05</td><td>2         </td></tr>\n",
       "\t<tr><td>2014-02-06</td><td>0         </td></tr>\n",
       "\t<tr><td>2014-02-07</td><td>2         </td></tr>\n",
       "\t<tr><td>2014-02-08</td><td>1         </td></tr>\n",
       "\t<tr><td>2014-02-09</td><td>0         </td></tr>\n",
       "\t<tr><td>2014-02-10</td><td>1         </td></tr>\n",
       "\t<tr><td>2014-02-11</td><td>2         </td></tr>\n",
       "\t<tr><td>2014-02-12</td><td>0         </td></tr>\n",
       "\t<tr><td>2014-02-13</td><td>0         </td></tr>\n",
       "\t<tr><td>2014-02-14</td><td>0         </td></tr>\n",
       "\t<tr><td>2014-02-15</td><td>0         </td></tr>\n",
       "\t<tr><td>2014-02-16</td><td>0         </td></tr>\n",
       "\t<tr><td>2014-02-17</td><td>0         </td></tr>\n",
       "\t<tr><td>2014-02-18</td><td>0         </td></tr>\n",
       "\t<tr><td>2014-02-19</td><td>0         </td></tr>\n",
       "\t<tr><td>2014-02-20</td><td>1         </td></tr>\n",
       "\t<tr><td>2014-02-21</td><td>1         </td></tr>\n",
       "\t<tr><td>2014-02-22</td><td>0         </td></tr>\n",
       "\t<tr><td>2014-02-23</td><td>2         </td></tr>\n",
       "\t<tr><td>2014-02-24</td><td>1         </td></tr>\n",
       "\t<tr><td>2014-02-25</td><td>1         </td></tr>\n",
       "\t<tr><td>2014-02-26</td><td>2         </td></tr>\n",
       "\t<tr><td>2014-02-27</td><td>0         </td></tr>\n",
       "\t<tr><td>2014-02-28</td><td>0         </td></tr>\n",
       "</tbody>\n",
       "</table>\n"
      ],
      "text/latex": [
       "\\begin{tabular}{r|ll}\n",
       " date & n\\\\\n",
       "\\hline\n",
       "\t 2014-02-01 & 0         \\\\\n",
       "\t 2014-02-02 & 0         \\\\\n",
       "\t 2014-02-03 & 1         \\\\\n",
       "\t 2014-02-04 & 0         \\\\\n",
       "\t 2014-02-05 & 2         \\\\\n",
       "\t 2014-02-06 & 0         \\\\\n",
       "\t 2014-02-07 & 2         \\\\\n",
       "\t 2014-02-08 & 1         \\\\\n",
       "\t 2014-02-09 & 0         \\\\\n",
       "\t 2014-02-10 & 1         \\\\\n",
       "\t 2014-02-11 & 2         \\\\\n",
       "\t 2014-02-12 & 0         \\\\\n",
       "\t 2014-02-13 & 0         \\\\\n",
       "\t 2014-02-14 & 0         \\\\\n",
       "\t 2014-02-15 & 0         \\\\\n",
       "\t 2014-02-16 & 0         \\\\\n",
       "\t 2014-02-17 & 0         \\\\\n",
       "\t 2014-02-18 & 0         \\\\\n",
       "\t 2014-02-19 & 0         \\\\\n",
       "\t 2014-02-20 & 1         \\\\\n",
       "\t 2014-02-21 & 1         \\\\\n",
       "\t 2014-02-22 & 0         \\\\\n",
       "\t 2014-02-23 & 2         \\\\\n",
       "\t 2014-02-24 & 1         \\\\\n",
       "\t 2014-02-25 & 1         \\\\\n",
       "\t 2014-02-26 & 2         \\\\\n",
       "\t 2014-02-27 & 0         \\\\\n",
       "\t 2014-02-28 & 0         \\\\\n",
       "\\end{tabular}\n"
      ],
      "text/markdown": [
       "\n",
       "date | n | \n",
       "|---|---|---|---|---|---|---|---|---|---|---|---|---|---|---|---|---|---|---|---|---|---|---|---|---|---|---|---|\n",
       "| 2014-02-01 | 0          | \n",
       "| 2014-02-02 | 0          | \n",
       "| 2014-02-03 | 1          | \n",
       "| 2014-02-04 | 0          | \n",
       "| 2014-02-05 | 2          | \n",
       "| 2014-02-06 | 0          | \n",
       "| 2014-02-07 | 2          | \n",
       "| 2014-02-08 | 1          | \n",
       "| 2014-02-09 | 0          | \n",
       "| 2014-02-10 | 1          | \n",
       "| 2014-02-11 | 2          | \n",
       "| 2014-02-12 | 0          | \n",
       "| 2014-02-13 | 0          | \n",
       "| 2014-02-14 | 0          | \n",
       "| 2014-02-15 | 0          | \n",
       "| 2014-02-16 | 0          | \n",
       "| 2014-02-17 | 0          | \n",
       "| 2014-02-18 | 0          | \n",
       "| 2014-02-19 | 0          | \n",
       "| 2014-02-20 | 1          | \n",
       "| 2014-02-21 | 1          | \n",
       "| 2014-02-22 | 0          | \n",
       "| 2014-02-23 | 2          | \n",
       "| 2014-02-24 | 1          | \n",
       "| 2014-02-25 | 1          | \n",
       "| 2014-02-26 | 2          | \n",
       "| 2014-02-27 | 0          | \n",
       "| 2014-02-28 | 0          | \n",
       "\n",
       "\n"
      ],
      "text/plain": [
       "   date       n\n",
       "1  2014-02-01 0\n",
       "2  2014-02-02 0\n",
       "3  2014-02-03 1\n",
       "4  2014-02-04 0\n",
       "5  2014-02-05 2\n",
       "6  2014-02-06 0\n",
       "7  2014-02-07 2\n",
       "8  2014-02-08 1\n",
       "9  2014-02-09 0\n",
       "10 2014-02-10 1\n",
       "11 2014-02-11 2\n",
       "12 2014-02-12 0\n",
       "13 2014-02-13 0\n",
       "14 2014-02-14 0\n",
       "15 2014-02-15 0\n",
       "16 2014-02-16 0\n",
       "17 2014-02-17 0\n",
       "18 2014-02-18 0\n",
       "19 2014-02-19 0\n",
       "20 2014-02-20 1\n",
       "21 2014-02-21 1\n",
       "22 2014-02-22 0\n",
       "23 2014-02-23 2\n",
       "24 2014-02-24 1\n",
       "25 2014-02-25 1\n",
       "26 2014-02-26 2\n",
       "27 2014-02-27 0\n",
       "28 2014-02-28 0"
      ]
     },
     "metadata": {},
     "output_type": "display_data"
    }
   ],
   "source": [
    "merged.data %>% filter(year(date) == 2014 & month(date) == 2) %>% select(date, n)"
   ]
  },
  {
   "cell_type": "markdown",
   "metadata": {},
   "source": [
    "The eight-day period from 2014-02-12 to 2014-02-19 had zero recorded shootings."
   ]
  }
 ],
 "metadata": {
  "kernelspec": {
   "display_name": "R",
   "language": "R",
   "name": "ir"
  },
  "language_info": {
   "codemirror_mode": "r",
   "file_extension": ".r",
   "mimetype": "text/x-r-source",
   "name": "R",
   "pygments_lexer": "r",
   "version": "3.5.1"
  }
 },
 "nbformat": 4,
 "nbformat_minor": 2
}
